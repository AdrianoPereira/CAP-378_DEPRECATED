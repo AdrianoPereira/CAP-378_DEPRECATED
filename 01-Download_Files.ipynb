{
 "cells": [
  {
   "cell_type": "code",
   "execution_count": null,
   "metadata": {},
   "outputs": [],
   "source": [
    "import s3fs\n",
    "import numpy as np\n",
    "import datetime as dt"
   ]
  },
  {
   "cell_type": "code",
   "execution_count": null,
   "metadata": {},
   "outputs": [],
   "source": [
    "def to_julian_day(year, month, day):    \n",
    "    date = dt.datetime.strptime('%d-%d-%d'%(year,month, day), '%Y-%m-%d')    \n",
    "    return str(date.timetuple().tm_yday).zfill(3)"
   ]
  },
  {
   "cell_type": "code",
   "execution_count": null,
   "metadata": {},
   "outputs": [],
   "source": [
    "def downloadABI(**kargs):\n",
    "    if kargs.get('day'):\n",
    "        day = kargs.get('day')\n",
    "    if kargs.get('month'):\n",
    "        month = kargs.get('month')\n",
    "    if kargs.get('year'):\n",
    "        year = kargs.get('year')\n",
    "    \n",
    "    julian_day = to_julian_day(year, month, day)\n",
    "    bucket = 'noaa-goes17/ABI-L2-CMIPF' \n",
    "    query = aws.ls('%s/%d/%s'%(bucket, year, julian_day))\n",
    "    \n",
    "    hours = np.array(query)    \n",
    "\n",
    "    for hour in hours:\n",
    "        files = aws.ls(hour)\n",
    "        for file in files:\n",
    "#             print('Downloading %s...'%file.split('/')[-1])\n",
    "            aws.get(file, 'dados/'+file.split('/')[-1])\n",
    "aws = s3fs.S3FileSystem(anon=True) "
   ]
  },
  {
   "cell_type": "code",
   "execution_count": null,
   "metadata": {},
   "outputs": [],
   "source": [
    "downloadABI(day=1, month=1, year=2019)"
   ]
  },
  {
   "cell_type": "code",
   "execution_count": null,
   "metadata": {},
   "outputs": [],
   "source": [
    "from IPython.display import display, Markdown, clear_output\n",
    "import ipywidgets as widgets"
   ]
  },
  {
   "cell_type": "code",
   "execution_count": null,
   "metadata": {},
   "outputs": [],
   "source": [
    "start_time = widgets.DatePicker(description='Start Time')\n",
    "\n",
    "button = widgets.Button(description='Download')\n",
    "out = widgets.Output()\n",
    "\n",
    "def on_button_clicked(_):\n",
    "      # \"linking function with output\"\n",
    "      with out:\n",
    "          # what happens when we press the button\n",
    "          clear_output()\n",
    "          downloadABI(day=start_time.value.day, month=start_time.value.month, year=start_time.value.year)"
   ]
  },
  {
   "cell_type": "code",
   "execution_count": null,
   "metadata": {},
   "outputs": [],
   "source": [
    "start_time"
   ]
  },
  {
   "cell_type": "code",
   "execution_count": null,
   "metadata": {},
   "outputs": [],
   "source": [
    "button.on_click(on_button_clicked)\n",
    "widgets.VBox([button,out])"
   ]
  },
  {
   "cell_type": "code",
   "execution_count": null,
   "metadata": {},
   "outputs": [],
   "source": []
  }
 ],
 "metadata": {
  "kernelspec": {
   "display_name": "Python 3",
   "language": "python",
   "name": "python3"
  },
  "language_info": {
   "codemirror_mode": {
    "name": "ipython",
    "version": 3
   },
   "file_extension": ".py",
   "mimetype": "text/x-python",
   "name": "python",
   "nbconvert_exporter": "python",
   "pygments_lexer": "ipython3",
   "version": "3.7.4"
  }
 },
 "nbformat": 4,
 "nbformat_minor": 4
}
